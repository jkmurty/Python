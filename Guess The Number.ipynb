{
 "cells": [
  {
   "cell_type": "markdown",
   "metadata": {},
   "source": [
    "## Guess the Number\n",
    "### Enter how many times you want to play the Game\n",
    "### Enter the number below which you want to guess the number"
   ]
  },
  {
   "cell_type": "code",
   "execution_count": 1,
   "metadata": {},
   "outputs": [
    {
     "name": "stdout",
     "output_type": "stream",
     "text": [
      "How many times you want to play the Game : 2\n",
      "Guess the number: 12\n",
      "The number is too Low\n",
      "Guess the number: 25\n",
      "The number is too Low\n",
      "Guess the number: 29\n",
      "Very good.. You hit the Bulls Eye.. Congratulations.. \n",
      " it took you 2 many guessed: \n",
      "Guess the number: 22\n",
      "The number is too Low\n",
      "Guess the number: 29\n",
      "The number is too high\n",
      "Guess the number: 23\n",
      "The number is too Low\n",
      "Guess the number: 24\n",
      "The number is too Low\n",
      "Guess the number: 25\n",
      "Very good.. You hit the Bulls Eye.. Congratulations.. \n",
      " it took you 4 many guessed: \n"
     ]
    }
   ],
   "source": [
    "import random\n",
    "\n",
    "games=''\n",
    "while games=='':\n",
    "    try:\n",
    "        games = int(input(\"How many times you want to play the Game : \"))\n",
    "    except:\n",
    "        print(\"please try using a number\")\n",
    "\n",
    "for game in range(0,games):\n",
    "    #Start Game for \n",
    "    #Generate a Random number\n",
    "    pick = random.randint(0,30)\n",
    "    guess=None\n",
    "    attempts=0\n",
    "    \n",
    "    while pick != guess:\n",
    "        try:\n",
    "            guess=int(input(\"Guess the number: \"))\n",
    "        except:\n",
    "            print(\"Oh! you missed it. please try Again...\")\n",
    "            continue\n",
    "        \n",
    "        if guess!= pick:\n",
    "            attempts += 1\n",
    "            \n",
    "            if  guess > pick:\n",
    "                print(\"The number is too high\")\n",
    "            else:\n",
    "                print(\"The number is too Low\")\n",
    "        else:\n",
    "            print('Very good.. You hit the Bulls Eye.. Congratulations.. \\n it took you %s guesses: ' % attempts)\n"
   ]
  },
  {
   "cell_type": "code",
   "execution_count": null,
   "metadata": {},
   "outputs": [],
   "source": []
  }
 ],
 "metadata": {
  "kernelspec": {
   "display_name": "Python 3",
   "language": "python",
   "name": "python3"
  },
  "language_info": {
   "codemirror_mode": {
    "name": "ipython",
    "version": 3
   },
   "file_extension": ".py",
   "mimetype": "text/x-python",
   "name": "python",
   "nbconvert_exporter": "python",
   "pygments_lexer": "ipython3",
   "version": "3.7.3"
  }
 },
 "nbformat": 4,
 "nbformat_minor": 2
}
